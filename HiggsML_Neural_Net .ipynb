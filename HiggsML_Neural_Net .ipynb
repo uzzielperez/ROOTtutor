{
 "cells": [
  {
   "cell_type": "markdown",
   "metadata": {
    "collapsed": true
   },
   "source": [
    "# Higgs ML Neural Net \n",
    "\n",
    "Data taken from http://opendata.cern.ch/record/328?ln=en"
   ]
  },
  {
   "cell_type": "code",
   "execution_count": 2,
   "metadata": {
    "collapsed": true
   },
   "outputs": [],
   "source": [
    "%%bash\n",
    "#jupyter nbextension enable --py widgetsnbextension"
   ]
  },
  {
   "cell_type": "code",
   "execution_count": 3,
   "metadata": {},
   "outputs": [
    {
     "name": "stderr",
     "output_type": "stream",
     "text": [
      "Using TensorFlow backend.\n"
     ]
    }
   ],
   "source": [
    "import keras"
   ]
  },
  {
   "cell_type": "code",
   "execution_count": 4,
   "metadata": {
    "collapsed": true
   },
   "outputs": [],
   "source": [
    "import pandas as pd \n",
    "import csv \n",
    "import numpy as np"
   ]
  },
  {
   "cell_type": "code",
   "execution_count": 4,
   "metadata": {
    "collapsed": true
   },
   "outputs": [],
   "source": [
    "import tensorflow"
   ]
  },
  {
   "cell_type": "markdown",
   "metadata": {},
   "source": [
    "### Input File\n",
    "\n",
    "Download the csv file and convert into a dataframe. "
   ]
  },
  {
   "cell_type": "code",
   "execution_count": 5,
   "metadata": {},
   "outputs": [
    {
     "data": {
      "text/html": [
       "<div>\n",
       "<style>\n",
       "    .dataframe thead tr:only-child th {\n",
       "        text-align: right;\n",
       "    }\n",
       "\n",
       "    .dataframe thead th {\n",
       "        text-align: left;\n",
       "    }\n",
       "\n",
       "    .dataframe tbody tr th {\n",
       "        vertical-align: top;\n",
       "    }\n",
       "</style>\n",
       "<table border=\"1\" class=\"dataframe\">\n",
       "  <thead>\n",
       "    <tr style=\"text-align: right;\">\n",
       "      <th></th>\n",
       "      <th>EventId</th>\n",
       "      <th>DER_mass_MMC</th>\n",
       "      <th>DER_mass_transverse_met_lep</th>\n",
       "      <th>DER_mass_vis</th>\n",
       "      <th>DER_pt_h</th>\n",
       "      <th>DER_deltaeta_jet_jet</th>\n",
       "      <th>DER_mass_jet_jet</th>\n",
       "      <th>DER_prodeta_jet_jet</th>\n",
       "      <th>DER_deltar_tau_lep</th>\n",
       "      <th>DER_pt_tot</th>\n",
       "      <th>...</th>\n",
       "      <th>PRI_jet_leading_eta</th>\n",
       "      <th>PRI_jet_leading_phi</th>\n",
       "      <th>PRI_jet_subleading_pt</th>\n",
       "      <th>PRI_jet_subleading_eta</th>\n",
       "      <th>PRI_jet_subleading_phi</th>\n",
       "      <th>PRI_jet_all_pt</th>\n",
       "      <th>Weight</th>\n",
       "      <th>Label</th>\n",
       "      <th>KaggleSet</th>\n",
       "      <th>KaggleWeight</th>\n",
       "    </tr>\n",
       "  </thead>\n",
       "  <tbody>\n",
       "    <tr>\n",
       "      <th>0</th>\n",
       "      <td>100000</td>\n",
       "      <td>138.470</td>\n",
       "      <td>51.655</td>\n",
       "      <td>97.827</td>\n",
       "      <td>27.980</td>\n",
       "      <td>0.91</td>\n",
       "      <td>124.711</td>\n",
       "      <td>2.666</td>\n",
       "      <td>3.064</td>\n",
       "      <td>41.928</td>\n",
       "      <td>...</td>\n",
       "      <td>2.150</td>\n",
       "      <td>0.444</td>\n",
       "      <td>46.062</td>\n",
       "      <td>1.24</td>\n",
       "      <td>-2.475</td>\n",
       "      <td>113.497</td>\n",
       "      <td>0.000814</td>\n",
       "      <td>s</td>\n",
       "      <td>t</td>\n",
       "      <td>0.002653</td>\n",
       "    </tr>\n",
       "    <tr>\n",
       "      <th>1</th>\n",
       "      <td>100001</td>\n",
       "      <td>160.937</td>\n",
       "      <td>68.768</td>\n",
       "      <td>103.235</td>\n",
       "      <td>48.146</td>\n",
       "      <td>-999.00</td>\n",
       "      <td>-999.000</td>\n",
       "      <td>-999.000</td>\n",
       "      <td>3.473</td>\n",
       "      <td>2.078</td>\n",
       "      <td>...</td>\n",
       "      <td>0.725</td>\n",
       "      <td>1.158</td>\n",
       "      <td>-999.000</td>\n",
       "      <td>-999.00</td>\n",
       "      <td>-999.000</td>\n",
       "      <td>46.226</td>\n",
       "      <td>0.681042</td>\n",
       "      <td>b</td>\n",
       "      <td>t</td>\n",
       "      <td>2.233584</td>\n",
       "    </tr>\n",
       "    <tr>\n",
       "      <th>2</th>\n",
       "      <td>100002</td>\n",
       "      <td>-999.000</td>\n",
       "      <td>162.172</td>\n",
       "      <td>125.953</td>\n",
       "      <td>35.635</td>\n",
       "      <td>-999.00</td>\n",
       "      <td>-999.000</td>\n",
       "      <td>-999.000</td>\n",
       "      <td>3.148</td>\n",
       "      <td>9.336</td>\n",
       "      <td>...</td>\n",
       "      <td>2.053</td>\n",
       "      <td>-2.028</td>\n",
       "      <td>-999.000</td>\n",
       "      <td>-999.00</td>\n",
       "      <td>-999.000</td>\n",
       "      <td>44.251</td>\n",
       "      <td>0.715742</td>\n",
       "      <td>b</td>\n",
       "      <td>t</td>\n",
       "      <td>2.347389</td>\n",
       "    </tr>\n",
       "    <tr>\n",
       "      <th>3</th>\n",
       "      <td>100003</td>\n",
       "      <td>143.905</td>\n",
       "      <td>81.417</td>\n",
       "      <td>80.943</td>\n",
       "      <td>0.414</td>\n",
       "      <td>-999.00</td>\n",
       "      <td>-999.000</td>\n",
       "      <td>-999.000</td>\n",
       "      <td>3.310</td>\n",
       "      <td>0.414</td>\n",
       "      <td>...</td>\n",
       "      <td>-999.000</td>\n",
       "      <td>-999.000</td>\n",
       "      <td>-999.000</td>\n",
       "      <td>-999.00</td>\n",
       "      <td>-999.000</td>\n",
       "      <td>-0.000</td>\n",
       "      <td>1.660654</td>\n",
       "      <td>b</td>\n",
       "      <td>t</td>\n",
       "      <td>5.446378</td>\n",
       "    </tr>\n",
       "    <tr>\n",
       "      <th>4</th>\n",
       "      <td>100004</td>\n",
       "      <td>175.864</td>\n",
       "      <td>16.915</td>\n",
       "      <td>134.805</td>\n",
       "      <td>16.405</td>\n",
       "      <td>-999.00</td>\n",
       "      <td>-999.000</td>\n",
       "      <td>-999.000</td>\n",
       "      <td>3.891</td>\n",
       "      <td>16.405</td>\n",
       "      <td>...</td>\n",
       "      <td>-999.000</td>\n",
       "      <td>-999.000</td>\n",
       "      <td>-999.000</td>\n",
       "      <td>-999.00</td>\n",
       "      <td>-999.000</td>\n",
       "      <td>0.000</td>\n",
       "      <td>1.904263</td>\n",
       "      <td>b</td>\n",
       "      <td>t</td>\n",
       "      <td>6.245333</td>\n",
       "    </tr>\n",
       "  </tbody>\n",
       "</table>\n",
       "<p>5 rows × 35 columns</p>\n",
       "</div>"
      ],
      "text/plain": [
       "   EventId  DER_mass_MMC  DER_mass_transverse_met_lep  DER_mass_vis  DER_pt_h  \\\n",
       "0   100000       138.470                       51.655        97.827    27.980   \n",
       "1   100001       160.937                       68.768       103.235    48.146   \n",
       "2   100002      -999.000                      162.172       125.953    35.635   \n",
       "3   100003       143.905                       81.417        80.943     0.414   \n",
       "4   100004       175.864                       16.915       134.805    16.405   \n",
       "\n",
       "   DER_deltaeta_jet_jet  DER_mass_jet_jet  DER_prodeta_jet_jet  \\\n",
       "0                  0.91           124.711                2.666   \n",
       "1               -999.00          -999.000             -999.000   \n",
       "2               -999.00          -999.000             -999.000   \n",
       "3               -999.00          -999.000             -999.000   \n",
       "4               -999.00          -999.000             -999.000   \n",
       "\n",
       "   DER_deltar_tau_lep  DER_pt_tot      ...       PRI_jet_leading_eta  \\\n",
       "0               3.064      41.928      ...                     2.150   \n",
       "1               3.473       2.078      ...                     0.725   \n",
       "2               3.148       9.336      ...                     2.053   \n",
       "3               3.310       0.414      ...                  -999.000   \n",
       "4               3.891      16.405      ...                  -999.000   \n",
       "\n",
       "   PRI_jet_leading_phi  PRI_jet_subleading_pt  PRI_jet_subleading_eta  \\\n",
       "0                0.444                 46.062                    1.24   \n",
       "1                1.158               -999.000                 -999.00   \n",
       "2               -2.028               -999.000                 -999.00   \n",
       "3             -999.000               -999.000                 -999.00   \n",
       "4             -999.000               -999.000                 -999.00   \n",
       "\n",
       "   PRI_jet_subleading_phi  PRI_jet_all_pt    Weight  Label  KaggleSet  \\\n",
       "0                  -2.475         113.497  0.000814      s          t   \n",
       "1                -999.000          46.226  0.681042      b          t   \n",
       "2                -999.000          44.251  0.715742      b          t   \n",
       "3                -999.000          -0.000  1.660654      b          t   \n",
       "4                -999.000           0.000  1.904263      b          t   \n",
       "\n",
       "   KaggleWeight  \n",
       "0      0.002653  \n",
       "1      2.233584  \n",
       "2      2.347389  \n",
       "3      5.446378  \n",
       "4      6.245333  \n",
       "\n",
       "[5 rows x 35 columns]"
      ]
     },
     "execution_count": 5,
     "metadata": {},
     "output_type": "execute_result"
    }
   ],
   "source": [
    "df = pd.read_csv(\"/Users/up/Downloads/atlas-higgs-challenge-2014-v2.csv\")\n",
    "df.head() #Take a look at the first 5 entries"
   ]
  },
  {
   "cell_type": "markdown",
   "metadata": {},
   "source": [
    "# A little background on the *Background*\n",
    "Only three background processes were kept for the Challenge to simplify things. From the documentation these are: \n",
    "- the decay of the Z boson (with a mass of 91.2 GeV) into two taus\n",
    "- events with a pair of top quarks, which can have a lepton and a hadronic tau among their decay\n",
    "- the decay of the W boson, where one electron or muon and a hadronic tau can appear simultaneously only through imperfections of the particle identification procedure. \n",
    "\n",
    "See [page](http://opendata.cern.ch/record/328) for more details. \n",
    "\n",
    "## Pre-processing\n",
    "First we're going to have to remove some columns that we won't use as input to the classifier. You can read more about it in the pdf documentation. We'll also have to do two things to facilitate the learning process:\n",
    "replace the label signal = 's' and background = 'b' with 0s nd 1s, respectively and,\n",
    "normalize the data so that learning would be faster.\n"
   ]
  },
  {
   "cell_type": "code",
   "execution_count": 6,
   "metadata": {},
   "outputs": [
    {
     "data": {
      "text/html": [
       "<div>\n",
       "<style>\n",
       "    .dataframe thead tr:only-child th {\n",
       "        text-align: right;\n",
       "    }\n",
       "\n",
       "    .dataframe thead th {\n",
       "        text-align: left;\n",
       "    }\n",
       "\n",
       "    .dataframe tbody tr th {\n",
       "        vertical-align: top;\n",
       "    }\n",
       "</style>\n",
       "<table border=\"1\" class=\"dataframe\">\n",
       "  <thead>\n",
       "    <tr style=\"text-align: right;\">\n",
       "      <th></th>\n",
       "      <th>EventId</th>\n",
       "      <th>DER_mass_MMC</th>\n",
       "      <th>DER_mass_transverse_met_lep</th>\n",
       "      <th>DER_mass_vis</th>\n",
       "      <th>DER_pt_h</th>\n",
       "      <th>DER_deltaeta_jet_jet</th>\n",
       "      <th>DER_mass_jet_jet</th>\n",
       "      <th>DER_prodeta_jet_jet</th>\n",
       "      <th>DER_deltar_tau_lep</th>\n",
       "      <th>DER_pt_tot</th>\n",
       "      <th>...</th>\n",
       "      <th>PRI_jet_leading_eta</th>\n",
       "      <th>PRI_jet_leading_phi</th>\n",
       "      <th>PRI_jet_subleading_pt</th>\n",
       "      <th>PRI_jet_subleading_eta</th>\n",
       "      <th>PRI_jet_subleading_phi</th>\n",
       "      <th>PRI_jet_all_pt</th>\n",
       "      <th>Weight</th>\n",
       "      <th>Label</th>\n",
       "      <th>KaggleSet</th>\n",
       "      <th>KaggleWeight</th>\n",
       "    </tr>\n",
       "  </thead>\n",
       "  <tbody>\n",
       "    <tr>\n",
       "      <th>0</th>\n",
       "      <td>100000</td>\n",
       "      <td>138.470</td>\n",
       "      <td>51.655</td>\n",
       "      <td>97.827</td>\n",
       "      <td>27.980</td>\n",
       "      <td>0.91</td>\n",
       "      <td>124.711</td>\n",
       "      <td>2.666</td>\n",
       "      <td>3.064</td>\n",
       "      <td>41.928</td>\n",
       "      <td>...</td>\n",
       "      <td>2.150</td>\n",
       "      <td>0.444</td>\n",
       "      <td>46.062</td>\n",
       "      <td>1.24</td>\n",
       "      <td>-2.475</td>\n",
       "      <td>113.497</td>\n",
       "      <td>0.000814</td>\n",
       "      <td>0</td>\n",
       "      <td>t</td>\n",
       "      <td>0.002653</td>\n",
       "    </tr>\n",
       "    <tr>\n",
       "      <th>1</th>\n",
       "      <td>100001</td>\n",
       "      <td>160.937</td>\n",
       "      <td>68.768</td>\n",
       "      <td>103.235</td>\n",
       "      <td>48.146</td>\n",
       "      <td>-999.00</td>\n",
       "      <td>-999.000</td>\n",
       "      <td>-999.000</td>\n",
       "      <td>3.473</td>\n",
       "      <td>2.078</td>\n",
       "      <td>...</td>\n",
       "      <td>0.725</td>\n",
       "      <td>1.158</td>\n",
       "      <td>-999.000</td>\n",
       "      <td>-999.00</td>\n",
       "      <td>-999.000</td>\n",
       "      <td>46.226</td>\n",
       "      <td>0.681042</td>\n",
       "      <td>1</td>\n",
       "      <td>t</td>\n",
       "      <td>2.233584</td>\n",
       "    </tr>\n",
       "    <tr>\n",
       "      <th>2</th>\n",
       "      <td>100002</td>\n",
       "      <td>-999.000</td>\n",
       "      <td>162.172</td>\n",
       "      <td>125.953</td>\n",
       "      <td>35.635</td>\n",
       "      <td>-999.00</td>\n",
       "      <td>-999.000</td>\n",
       "      <td>-999.000</td>\n",
       "      <td>3.148</td>\n",
       "      <td>9.336</td>\n",
       "      <td>...</td>\n",
       "      <td>2.053</td>\n",
       "      <td>-2.028</td>\n",
       "      <td>-999.000</td>\n",
       "      <td>-999.00</td>\n",
       "      <td>-999.000</td>\n",
       "      <td>44.251</td>\n",
       "      <td>0.715742</td>\n",
       "      <td>1</td>\n",
       "      <td>t</td>\n",
       "      <td>2.347389</td>\n",
       "    </tr>\n",
       "    <tr>\n",
       "      <th>3</th>\n",
       "      <td>100003</td>\n",
       "      <td>143.905</td>\n",
       "      <td>81.417</td>\n",
       "      <td>80.943</td>\n",
       "      <td>0.414</td>\n",
       "      <td>-999.00</td>\n",
       "      <td>-999.000</td>\n",
       "      <td>-999.000</td>\n",
       "      <td>3.310</td>\n",
       "      <td>0.414</td>\n",
       "      <td>...</td>\n",
       "      <td>-999.000</td>\n",
       "      <td>-999.000</td>\n",
       "      <td>-999.000</td>\n",
       "      <td>-999.00</td>\n",
       "      <td>-999.000</td>\n",
       "      <td>-0.000</td>\n",
       "      <td>1.660654</td>\n",
       "      <td>1</td>\n",
       "      <td>t</td>\n",
       "      <td>5.446378</td>\n",
       "    </tr>\n",
       "    <tr>\n",
       "      <th>4</th>\n",
       "      <td>100004</td>\n",
       "      <td>175.864</td>\n",
       "      <td>16.915</td>\n",
       "      <td>134.805</td>\n",
       "      <td>16.405</td>\n",
       "      <td>-999.00</td>\n",
       "      <td>-999.000</td>\n",
       "      <td>-999.000</td>\n",
       "      <td>3.891</td>\n",
       "      <td>16.405</td>\n",
       "      <td>...</td>\n",
       "      <td>-999.000</td>\n",
       "      <td>-999.000</td>\n",
       "      <td>-999.000</td>\n",
       "      <td>-999.00</td>\n",
       "      <td>-999.000</td>\n",
       "      <td>0.000</td>\n",
       "      <td>1.904263</td>\n",
       "      <td>1</td>\n",
       "      <td>t</td>\n",
       "      <td>6.245333</td>\n",
       "    </tr>\n",
       "  </tbody>\n",
       "</table>\n",
       "<p>5 rows × 35 columns</p>\n",
       "</div>"
      ],
      "text/plain": [
       "   EventId  DER_mass_MMC  DER_mass_transverse_met_lep  DER_mass_vis  DER_pt_h  \\\n",
       "0   100000       138.470                       51.655        97.827    27.980   \n",
       "1   100001       160.937                       68.768       103.235    48.146   \n",
       "2   100002      -999.000                      162.172       125.953    35.635   \n",
       "3   100003       143.905                       81.417        80.943     0.414   \n",
       "4   100004       175.864                       16.915       134.805    16.405   \n",
       "\n",
       "   DER_deltaeta_jet_jet  DER_mass_jet_jet  DER_prodeta_jet_jet  \\\n",
       "0                  0.91           124.711                2.666   \n",
       "1               -999.00          -999.000             -999.000   \n",
       "2               -999.00          -999.000             -999.000   \n",
       "3               -999.00          -999.000             -999.000   \n",
       "4               -999.00          -999.000             -999.000   \n",
       "\n",
       "   DER_deltar_tau_lep  DER_pt_tot      ...       PRI_jet_leading_eta  \\\n",
       "0               3.064      41.928      ...                     2.150   \n",
       "1               3.473       2.078      ...                     0.725   \n",
       "2               3.148       9.336      ...                     2.053   \n",
       "3               3.310       0.414      ...                  -999.000   \n",
       "4               3.891      16.405      ...                  -999.000   \n",
       "\n",
       "   PRI_jet_leading_phi  PRI_jet_subleading_pt  PRI_jet_subleading_eta  \\\n",
       "0                0.444                 46.062                    1.24   \n",
       "1                1.158               -999.000                 -999.00   \n",
       "2               -2.028               -999.000                 -999.00   \n",
       "3             -999.000               -999.000                 -999.00   \n",
       "4             -999.000               -999.000                 -999.00   \n",
       "\n",
       "   PRI_jet_subleading_phi  PRI_jet_all_pt    Weight  Label  KaggleSet  \\\n",
       "0                  -2.475         113.497  0.000814      0          t   \n",
       "1                -999.000          46.226  0.681042      1          t   \n",
       "2                -999.000          44.251  0.715742      1          t   \n",
       "3                -999.000          -0.000  1.660654      1          t   \n",
       "4                -999.000           0.000  1.904263      1          t   \n",
       "\n",
       "   KaggleWeight  \n",
       "0      0.002653  \n",
       "1      2.233584  \n",
       "2      2.347389  \n",
       "3      5.446378  \n",
       "4      6.245333  \n",
       "\n",
       "[5 rows x 35 columns]"
      ]
     },
     "execution_count": 6,
     "metadata": {},
     "output_type": "execute_result"
    }
   ],
   "source": [
    "#Replace signal and background labels with 1s and 0s\n",
    "df['Label'] = df['Label'].map({'s':0 , 'b':1})\n",
    "df.head()"
   ]
  },
  {
   "cell_type": "code",
   "execution_count": 7,
   "metadata": {
    "collapsed": true
   },
   "outputs": [],
   "source": [
    "exclude = ['EventId','Events', 'Weight', 'Label', 'KaggleSet', 'KaggleWeight']\n",
    "trainData = df.loc[:, df.columns.difference(exclude)] "
   ]
  },
  {
   "cell_type": "code",
   "execution_count": 8,
   "metadata": {},
   "outputs": [
    {
     "data": {
      "text/html": [
       "<div>\n",
       "<style>\n",
       "    .dataframe thead tr:only-child th {\n",
       "        text-align: right;\n",
       "    }\n",
       "\n",
       "    .dataframe thead th {\n",
       "        text-align: left;\n",
       "    }\n",
       "\n",
       "    .dataframe tbody tr th {\n",
       "        vertical-align: top;\n",
       "    }\n",
       "</style>\n",
       "<table border=\"1\" class=\"dataframe\">\n",
       "  <thead>\n",
       "    <tr style=\"text-align: right;\">\n",
       "      <th></th>\n",
       "      <th>DER_deltaeta_jet_jet</th>\n",
       "      <th>DER_deltar_tau_lep</th>\n",
       "      <th>DER_lep_eta_centrality</th>\n",
       "      <th>DER_mass_MMC</th>\n",
       "      <th>DER_mass_jet_jet</th>\n",
       "      <th>DER_mass_transverse_met_lep</th>\n",
       "      <th>DER_mass_vis</th>\n",
       "      <th>DER_met_phi_centrality</th>\n",
       "      <th>DER_prodeta_jet_jet</th>\n",
       "      <th>DER_pt_h</th>\n",
       "      <th>...</th>\n",
       "      <th>PRI_jet_subleading_pt</th>\n",
       "      <th>PRI_lep_eta</th>\n",
       "      <th>PRI_lep_phi</th>\n",
       "      <th>PRI_lep_pt</th>\n",
       "      <th>PRI_met</th>\n",
       "      <th>PRI_met_phi</th>\n",
       "      <th>PRI_met_sumet</th>\n",
       "      <th>PRI_tau_eta</th>\n",
       "      <th>PRI_tau_phi</th>\n",
       "      <th>PRI_tau_pt</th>\n",
       "    </tr>\n",
       "  </thead>\n",
       "  <tbody>\n",
       "    <tr>\n",
       "      <th>0</th>\n",
       "      <td>1.558181</td>\n",
       "      <td>0.883789</td>\n",
       "      <td>1.560901</td>\n",
       "      <td>0.461169</td>\n",
       "      <td>1.100465</td>\n",
       "      <td>0.067902</td>\n",
       "      <td>0.411171</td>\n",
       "      <td>1.275526</td>\n",
       "      <td>1.569166</td>\n",
       "      <td>-0.471040</td>\n",
       "      <td>...</td>\n",
       "      <td>1.535972</td>\n",
       "      <td>1.812996</td>\n",
       "      <td>-1.357205</td>\n",
       "      <td>0.222812</td>\n",
       "      <td>-0.764108</td>\n",
       "      <td>-0.148047</td>\n",
       "      <td>0.384999</td>\n",
       "      <td>0.847675</td>\n",
       "      <td>0.217038</td>\n",
       "      <td>-0.270193</td>\n",
       "    </tr>\n",
       "    <tr>\n",
       "      <th>1</th>\n",
       "      <td>-0.640420</td>\n",
       "      <td>1.407561</td>\n",
       "      <td>-0.640422</td>\n",
       "      <td>0.516490</td>\n",
       "      <td>-0.605427</td>\n",
       "      <td>0.551613</td>\n",
       "      <td>0.544430</td>\n",
       "      <td>1.290599</td>\n",
       "      <td>-0.640416</td>\n",
       "      <td>-0.153024</td>\n",
       "      <td>...</td>\n",
       "      <td>-0.639996</td>\n",
       "      <td>0.411374</td>\n",
       "      <td>0.029497</td>\n",
       "      <td>-0.441436</td>\n",
       "      <td>0.093841</td>\n",
       "      <td>-1.052222</td>\n",
       "      <td>-0.357703</td>\n",
       "      <td>1.689860</td>\n",
       "      <td>-1.650719</td>\n",
       "      <td>0.147838</td>\n",
       "    </tr>\n",
       "    <tr>\n",
       "      <th>2</th>\n",
       "      <td>-0.640420</td>\n",
       "      <td>0.991361</td>\n",
       "      <td>-0.640422</td>\n",
       "      <td>-2.339666</td>\n",
       "      <td>-0.605427</td>\n",
       "      <td>3.191741</td>\n",
       "      <td>1.104226</td>\n",
       "      <td>1.290599</td>\n",
       "      <td>-0.640416</td>\n",
       "      <td>-0.350321</td>\n",
       "      <td>...</td>\n",
       "      <td>-0.639996</td>\n",
       "      <td>-0.738715</td>\n",
       "      <td>0.552334</td>\n",
       "      <td>3.374379</td>\n",
       "      <td>0.388615</td>\n",
       "      <td>-1.201171</td>\n",
       "      <td>0.398254</td>\n",
       "      <td>-0.571348</td>\n",
       "      <td>-1.145236</td>\n",
       "      <td>-0.291772</td>\n",
       "    </tr>\n",
       "    <tr>\n",
       "      <th>3</th>\n",
       "      <td>-0.640420</td>\n",
       "      <td>1.198820</td>\n",
       "      <td>-0.640422</td>\n",
       "      <td>0.474552</td>\n",
       "      <td>-0.605427</td>\n",
       "      <td>0.909146</td>\n",
       "      <td>-0.004868</td>\n",
       "      <td>-0.969427</td>\n",
       "      <td>-0.640416</td>\n",
       "      <td>-0.905753</td>\n",
       "      <td>...</td>\n",
       "      <td>-0.639996</td>\n",
       "      <td>-0.397802</td>\n",
       "      <td>-1.735147</td>\n",
       "      <td>0.299363</td>\n",
       "      <td>-0.325348</td>\n",
       "      <td>0.037863</td>\n",
       "      <td>-0.976581</td>\n",
       "      <td>-1.354201</td>\n",
       "      <td>0.012752</td>\n",
       "      <td>-0.715643</td>\n",
       "    </tr>\n",
       "    <tr>\n",
       "      <th>4</th>\n",
       "      <td>-0.640420</td>\n",
       "      <td>1.942858</td>\n",
       "      <td>-0.640422</td>\n",
       "      <td>0.553245</td>\n",
       "      <td>-0.605427</td>\n",
       "      <td>-0.914048</td>\n",
       "      <td>1.322348</td>\n",
       "      <td>-1.053163</td>\n",
       "      <td>-0.640416</td>\n",
       "      <td>-0.653576</td>\n",
       "      <td>...</td>\n",
       "      <td>-0.639996</td>\n",
       "      <td>0.646296</td>\n",
       "      <td>0.837167</td>\n",
       "      <td>-0.764076</td>\n",
       "      <td>-1.198037</td>\n",
       "      <td>-0.475735</td>\n",
       "      <td>-1.236256</td>\n",
       "      <td>-1.800839</td>\n",
       "      <td>-1.221223</td>\n",
       "      <td>-0.467660</td>\n",
       "    </tr>\n",
       "  </tbody>\n",
       "</table>\n",
       "<p>5 rows × 30 columns</p>\n",
       "</div>"
      ],
      "text/plain": [
       "   DER_deltaeta_jet_jet  DER_deltar_tau_lep  DER_lep_eta_centrality  \\\n",
       "0              1.558181            0.883789                1.560901   \n",
       "1             -0.640420            1.407561               -0.640422   \n",
       "2             -0.640420            0.991361               -0.640422   \n",
       "3             -0.640420            1.198820               -0.640422   \n",
       "4             -0.640420            1.942858               -0.640422   \n",
       "\n",
       "   DER_mass_MMC  DER_mass_jet_jet  DER_mass_transverse_met_lep  DER_mass_vis  \\\n",
       "0      0.461169          1.100465                     0.067902      0.411171   \n",
       "1      0.516490         -0.605427                     0.551613      0.544430   \n",
       "2     -2.339666         -0.605427                     3.191741      1.104226   \n",
       "3      0.474552         -0.605427                     0.909146     -0.004868   \n",
       "4      0.553245         -0.605427                    -0.914048      1.322348   \n",
       "\n",
       "   DER_met_phi_centrality  DER_prodeta_jet_jet  DER_pt_h     ...      \\\n",
       "0                1.275526             1.569166 -0.471040     ...       \n",
       "1                1.290599            -0.640416 -0.153024     ...       \n",
       "2                1.290599            -0.640416 -0.350321     ...       \n",
       "3               -0.969427            -0.640416 -0.905753     ...       \n",
       "4               -1.053163            -0.640416 -0.653576     ...       \n",
       "\n",
       "   PRI_jet_subleading_pt  PRI_lep_eta  PRI_lep_phi  PRI_lep_pt   PRI_met  \\\n",
       "0               1.535972     1.812996    -1.357205    0.222812 -0.764108   \n",
       "1              -0.639996     0.411374     0.029497   -0.441436  0.093841   \n",
       "2              -0.639996    -0.738715     0.552334    3.374379  0.388615   \n",
       "3              -0.639996    -0.397802    -1.735147    0.299363 -0.325348   \n",
       "4              -0.639996     0.646296     0.837167   -0.764076 -1.198037   \n",
       "\n",
       "   PRI_met_phi  PRI_met_sumet  PRI_tau_eta  PRI_tau_phi  PRI_tau_pt  \n",
       "0    -0.148047       0.384999     0.847675     0.217038   -0.270193  \n",
       "1    -1.052222      -0.357703     1.689860    -1.650719    0.147838  \n",
       "2    -1.201171       0.398254    -0.571348    -1.145236   -0.291772  \n",
       "3     0.037863      -0.976581    -1.354201     0.012752   -0.715643  \n",
       "4    -0.475735      -1.236256    -1.800839    -1.221223   -0.467660  \n",
       "\n",
       "[5 rows x 30 columns]"
      ]
     },
     "execution_count": 8,
     "metadata": {},
     "output_type": "execute_result"
    }
   ],
   "source": [
    "from sklearn.preprocessing import StandardScaler\n",
    "scaler = StandardScaler()\n",
    "trainData[trainData.columns] = scaler.fit_transform(trainData[trainData.columns])\n",
    "trainData.head()"
   ]
  },
  {
   "cell_type": "code",
   "execution_count": 9,
   "metadata": {
    "collapsed": true,
    "scrolled": true
   },
   "outputs": [],
   "source": [
    "#df.info()"
   ]
  },
  {
   "cell_type": "markdown",
   "metadata": {},
   "source": [
    "## Splitting the dataset into training and validation sets\n",
    "We then split our dataset into training and validation sets. A good [rule of thumb](https://stackoverflow.com/questions/13610074/is-there-a-rule-of-thumb-for-how-to-divide-a-dataset-into-training-and-validatio) is to split into 80/20 training and testing (or a cross-validation) set. However a test set with 100000 would be good enough. We'll use scikit-learn's train_test_split function to do this. \n",
    "\n",
    "Recall that the **trainData** DataFrame has already excluded the labels and other non-inputs to the classifier. It contains all the other features that will help us discriminate between signal and background. We'll put in as first argument, trainData into the **train_test_split** function. The second argument would be the label for each instance. This tells whether the event is signal (0) or background (1). "
   ]
  },
  {
   "cell_type": "code",
   "execution_count": 10,
   "metadata": {},
   "outputs": [
    {
     "name": "stderr",
     "output_type": "stream",
     "text": [
      "/Users/up/miniconda3/envs/mlhep3/lib/python3.5/site-packages/sklearn/cross_validation.py:44: DeprecationWarning: This module was deprecated in version 0.18 in favor of the model_selection module into which all the refactored classes and functions are moved. Also note that the interface of the new CV iterators are different from that of this module. This module will be removed in 0.20.\n",
      "  \"This module will be removed in 0.20.\", DeprecationWarning)\n"
     ]
    },
    {
     "name": "stdout",
     "output_type": "stream",
     "text": [
      "Input shape to model: (718238, 30)\n"
     ]
    }
   ],
   "source": [
    "from sklearn.cross_validation import train_test_split\n",
    "rawXtrain, rawXcv, ytrain, ycv = train_test_split(trainData, df.Label, random_state=1, test_size=100000)\n",
    "\n",
    "# For Keras: recast as matrix\n",
    "Xtrain = rawXtrain.as_matrix()\n",
    "Xcv = rawXcv.as_matrix()\n",
    "print (\"Input shape to model:\",Xtrain.shape)"
   ]
  },
  {
   "cell_type": "markdown",
   "metadata": {},
   "source": [
    "Let's see if our dataset split properly. There should be 100,000 instances for our testing set. The training set with the labels will be sort of *memorized* by our classifier and will be used to classify new and unfamiliar instances into signal and background. "
   ]
  },
  {
   "cell_type": "code",
   "execution_count": 10,
   "metadata": {},
   "outputs": [
    {
     "name": "stdout",
     "output_type": "stream",
     "text": [
      "(718238, 30)\n",
      "(100000, 30)\n",
      "(718238,)\n",
      "(100000,)\n"
     ]
    }
   ],
   "source": [
    "# Print the shapes of both sets.\n",
    "print(rawXtrain.shape)\n",
    "print(rawXcv.shape)\n",
    "print(ytrain.shape)\n",
    "print(ycv.shape)"
   ]
  },
  {
   "cell_type": "code",
   "execution_count": null,
   "metadata": {
    "collapsed": true
   },
   "outputs": [],
   "source": [
    "#ycv"
   ]
  },
  {
   "cell_type": "markdown",
   "metadata": {},
   "source": [
    "# Defining the model\n",
    "We use a 3-hidden layer fully-connected network: input->FC:64->FC:32->FC:1->output. Deeper and shallower networks were attempted but the below 3-layer network proved to work best. Other particulars:  \n",
    " - Sigmoid activation peformed better than the popular relu   \n",
    " - Unnecessary to apply L2 regularization   \n",
    " - Truncated Normal weight initializations work best   \n",
    " - Applied dropout\n",
    "\n"
   ]
  },
  {
   "cell_type": "code",
   "execution_count": 11,
   "metadata": {},
   "outputs": [
    {
     "name": "stderr",
     "output_type": "stream",
     "text": [
      "/Users/up/miniconda3/envs/mlhep3/lib/python3.5/site-packages/ipykernel_launcher.py:9: UserWarning: Update your `Dense` call to the Keras 2 API: `Dense(64, activation=\"sigmoid\", kernel_initializer=\"glorot_normal\", input_shape=(30,))`\n",
      "  if __name__ == '__main__':\n",
      "/Users/up/miniconda3/envs/mlhep3/lib/python3.5/site-packages/ipykernel_launcher.py:11: UserWarning: Update your `Dense` call to the Keras 2 API: `Dense(32, activation=\"sigmoid\", kernel_initializer=\"glorot_normal\")`\n",
      "  # This is added back by InteractiveShellApp.init_path()\n",
      "/Users/up/miniconda3/envs/mlhep3/lib/python3.5/site-packages/ipykernel_launcher.py:13: UserWarning: Update your `Dense` call to the Keras 2 API: `Dense(1, activation=\"sigmoid\", kernel_initializer=\"glorot_normal\")`\n",
      "  del sys.path[0]\n"
     ]
    },
    {
     "name": "stdout",
     "output_type": "stream",
     "text": [
      "_________________________________________________________________\n",
      "Layer (type)                 Output Shape              Param #   \n",
      "=================================================================\n",
      "dense_1 (Dense)              (None, 64)                1984      \n",
      "_________________________________________________________________\n",
      "dropout_1 (Dropout)          (None, 64)                0         \n",
      "_________________________________________________________________\n",
      "dense_2 (Dense)              (None, 32)                2080      \n",
      "_________________________________________________________________\n",
      "dropout_2 (Dropout)          (None, 32)                0         \n",
      "_________________________________________________________________\n",
      "dense_3 (Dense)              (None, 1)                 33        \n",
      "=================================================================\n",
      "Total params: 4,097\n",
      "Trainable params: 4,097\n",
      "Non-trainable params: 0\n",
      "_________________________________________________________________\n"
     ]
    }
   ],
   "source": [
    "# Import some keras deps\n",
    "from keras.models import Sequential\n",
    "from keras.layers import Dense, Dropout\n",
    "#from keras.initializations import glorot_normal\n",
    "from keras import initializers\n",
    "\n",
    "# Compile simple Keras model: fully-connected, multi-layer\n",
    "model = Sequential()\n",
    "model.add(Dense(64, activation='sigmoid', input_shape=(Xtrain.shape[1],), init='glorot_normal'))\n",
    "model.add(Dropout(0.3))\n",
    "model.add(Dense(32, activation='sigmoid', init='glorot_normal'))\n",
    "model.add(Dropout(0.2))\n",
    "model.add(Dense(1, activation='sigmoid', init='glorot_normal'))\n",
    "\n",
    "model.summary()\n",
    "model.compile(loss='binary_crossentropy', optimizer='adam', metrics=['accuracy'])"
   ]
  },
  {
   "cell_type": "code",
   "execution_count": 12,
   "metadata": {},
   "outputs": [
    {
     "name": "stdout",
     "output_type": "stream",
     "text": [
      "Epoch 1/10\n",
      "718238/718238 [==============================] - 127s - loss: 0.4385 - acc: 0.7933   \n",
      "Epoch 2/10\n",
      "718238/718238 [==============================] - 247s - loss: 0.3988 - acc: 0.8179   \n",
      "Epoch 3/10\n",
      "718238/718238 [==============================] - 308s - loss: 0.3920 - acc: 0.8219   \n",
      "Epoch 4/10\n",
      "718238/718238 [==============================] - 435s - loss: 0.3887 - acc: 0.8236   - ETA: 1s - loss\n",
      "Epoch 5/10\n",
      "718238/718238 [==============================] - 339s - loss: 0.3865 - acc: 0.8250   \n",
      "Epoch 6/10\n",
      "718238/718238 [==============================] - 295s - loss: 0.3848 - acc: 0.8261   \n",
      "Epoch 7/10\n",
      "718238/718238 [==============================] - 336s - loss: 0.3836 - acc: 0.8267   \n",
      "Epoch 8/10\n",
      "718238/718238 [==============================] - 335s - loss: 0.3824 - acc: 0.8267   \n",
      "Epoch 9/10\n",
      "718238/718238 [==============================] - 297s - loss: 0.3817 - acc: 0.8277   \n",
      "Epoch 10/10\n",
      "718238/718238 [==============================] - 306s - loss: 0.3809 - acc: 0.8282   \n"
     ]
    },
    {
     "data": {
      "text/plain": [
       "<keras.callbacks.History at 0x11ed4f780>"
      ]
     },
     "execution_count": 12,
     "metadata": {},
     "output_type": "execute_result"
    }
   ],
   "source": [
    "model.fit(Xtrain, ytrain, epochs=10, verbose=1)"
   ]
  },
  {
   "cell_type": "markdown",
   "metadata": {},
   "source": [
    "# Evaluating on CV\n",
    "Below we present standard metrics for evaluating the trained model on the CV set.\n",
    "\n",
    "# Confusion matrix\n",
    "\n",
    "A confusion matrix, in this case for a binary classifier, is a way to tabulate the misclassified items.\n",
    "From the matrix below, we know that there are two possible classes, signal = 0 and background = 1."
   ]
  },
  {
   "cell_type": "code",
   "execution_count": 13,
   "metadata": {},
   "outputs": [
    {
     "data": {
      "image/png": "[encoded data removed]",
      "text/plain": [
       "<matplotlib.figure.Figure at 0x1239c4eb8>"
      ]
     },
     "metadata": {},
     "output_type": "display_data"
    }
   ],
   "source": [
    "%matplotlib inline \n",
    "import numpy as np\n",
    "import matplotlib.pyplot as plt \n",
    "import seaborn as sns; sns.set()\n",
    "\n",
    "testPrediction = model.predict_classes(Xcv, verbose=0)\n",
    "testPrediction = testPrediction.flatten()\n",
    "\n",
    "from sklearn.metrics import confusion_matrix\n",
    "mat = confusion_matrix(ycv, testPrediction)\n",
    "sns.heatmap(mat.T, square=True, annot=True, fmt='d', cbar=False)\n",
    "#                xticklabels=testLabels, yticklabels=testLabels)\n",
    "plt.xlabel('true label')\n",
    "plt.ylabel('predicted label');"
   ]
  },
  {
   "cell_type": "code",
   "execution_count": 15,
   "metadata": {},
   "outputs": [
    {
     "name": "stdout",
     "output_type": "stream",
     "text": [
      "CV ROC AUC: 0.903336314862\n"
     ]
    },
    {
     "data": {
      "image/png": "[encoded data removed]",
      "text/plain": [
       "<matplotlib.figure.Figure at 0x126eb28d0>"
      ]
     },
     "metadata": {},
     "output_type": "display_data"
    }
   ],
   "source": [
    "from sklearn.metrics import roc_curve, auc\n",
    "\n",
    "# Calculate ROC AUC\n",
    "y_score = model.predict_proba(Xcv, verbose=0)\n",
    "fpr, tpr, thresholds = roc_curve(ycv,y_score[:,0])\n",
    "roc_auc = auc(fpr,tpr) \n",
    "print (\"CV ROC AUC:\",roc_auc)\n",
    "\n",
    "# Plot ROC\n",
    "plt.figure()\n",
    "lw = 2\n",
    "plt.plot(fpr, tpr, color='darkorange',\n",
    "         lw=lw, label='ROC curve (area = %0.2f)' % roc_auc)\n",
    "plt.plot([0, 1], [0, 1], color='navy', lw=lw, linestyle='--')\n",
    "plt.xlim([0.0, 1.0])\n",
    "plt.ylim([0.0, 1.05])\n",
    "plt.xlabel('False Positive Rate')\n",
    "plt.ylabel('True Positive Rate')\n",
    "plt.title('Receiver operating characteristic')\n",
    "plt.legend(loc=\"lower right\")\n",
    "plt.show()"
   ]
  },
  {
   "cell_type": "markdown",
   "metadata": {
    "collapsed": true
   },
   "source": [
    "# Loading the GPU-trained model"
   ]
  },
  {
   "cell_type": "code",
   "execution_count": 12,
   "metadata": {},
   "outputs": [
    {
     "name": "stdout",
     "output_type": "stream",
     "text": [
      "_________________________________________________________________\n",
      "Layer (type)                 Output Shape              Param #   \n",
      "=================================================================\n",
      "dense_1 (Dense)              (None, 64)                1984      \n",
      "_________________________________________________________________\n",
      "dropout_1 (Dropout)          (None, 64)                0         \n",
      "_________________________________________________________________\n",
      "dense_2 (Dense)              (None, 32)                2080      \n",
      "_________________________________________________________________\n",
      "dropout_2 (Dropout)          (None, 32)                0         \n",
      "_________________________________________________________________\n",
      "dense_3 (Dense)              (None, 1)                 33        \n",
      "=================================================================\n",
      "Total params: 4,097\n",
      "Trainable params: 4,097\n",
      "Non-trainable params: 0\n",
      "_________________________________________________________________\n"
     ]
    }
   ],
   "source": [
    "# Load the trained model\n",
    "\n",
    "'''\n",
    "import math\n",
    "import numpy as np\n",
    "import keras.backend\n",
    "from keras.callbacks import LearningRateScheduler, ModelCheckpoint, EarlyStopping\n",
    "\n",
    "numEpochs = 100\n",
    "batchSize = 64\n",
    "initial_lr = 0.005\n",
    "\n",
    "# Implement step-wise LR decay\n",
    "# NOTE: Scheduler called at beginning of epoch\n",
    "def step_decay(epoch):\n",
    "    lr0 = initial_lr\n",
    "    decay_rate = 0.5\n",
    "    epochs_period = 8\n",
    "    #lr_final = 1.e-6\n",
    "    lr = lr0 * math.pow(decay_rate, math.floor((1+epoch)/epochs_period))\n",
    "    #if lr < lr_final:\n",
    "    #    lr = lr_final\n",
    "    print \"lr:\",lr\n",
    "    #print \"lr was:\",keras.backend.get_value(model.optimizer.lr)    \n",
    "    return lr\n",
    "\n",
    "# Callbacks for LR decay, checkpoint creation, and early stopping, resp.:\n",
    "lrate = LearningRateScheduler(step_decay)\n",
    "ckpt = ModelCheckpoint('NN_model_{epoch:02d}-{val_loss:.4f}.h5',save_best_only=True)\n",
    "earlystop = EarlyStopping(patience=6)\n",
    "\n",
    "print \"Fitting model\"\n",
    "hist = model.fit(Xtrain, ytrain, nb_epoch=numEpochs, batch_size=batchSize,\n",
    "            validation_data=(Xcv, ycv), verbose=1, callbacks=[lrate,ckpt,earlystop])\n",
    "model.save('UP_model.h5')\n",
    "'''\n",
    "\n",
    "del model  # deletes the existing model\n",
    "from keras.models import load_model\n",
    "model = load_model('UP_model.h5')\n",
    "model.summary()"
   ]
  },
  {
   "cell_type": "code",
   "execution_count": 13,
   "metadata": {},
   "outputs": [
    {
     "data": {
      "image/png": "[encoded data removed]",
      "text/plain": [
       "<matplotlib.figure.Figure at 0x1280e4e80>"
      ]
     },
     "metadata": {},
     "output_type": "display_data"
    }
   ],
   "source": [
    "%matplotlib inline \n",
    "import numpy as np\n",
    "import matplotlib.pyplot as plt \n",
    "import seaborn as sns; sns.set()\n",
    "\n",
    "testPrediction = model.predict_classes(Xcv, verbose=0)\n",
    "testPrediction = testPrediction.flatten()\n",
    "\n",
    "from sklearn.metrics import confusion_matrix\n",
    "mat = confusion_matrix(ycv, testPrediction)\n",
    "sns.heatmap(mat.T, square=True, annot=True, fmt='d', cbar=False)\n",
    "#                xticklabels=testLabels, yticklabels=testLabels)\n",
    "plt.xlabel('true label')\n",
    "plt.ylabel('predicted label');"
   ]
  },
  {
   "cell_type": "code",
   "execution_count": 14,
   "metadata": {},
   "outputs": [
    {
     "name": "stdout",
     "output_type": "stream",
     "text": [
      "CV ROC AUC: 0.906682393234\n"
     ]
    },
    {
     "data": {
      "image/png": "[encoded data removed]",
      "text/plain": [
       "<matplotlib.figure.Figure at 0x12eaecdd8>"
      ]
     },
     "metadata": {},
     "output_type": "display_data"
    }
   ],
   "source": [
    "from sklearn.metrics import roc_curve, auc\n",
    "\n",
    "# Calculate ROC AUC\n",
    "y_score = model.predict_proba(Xcv, verbose=0)\n",
    "fpr, tpr, thresholds = roc_curve(ycv,y_score[:,0])\n",
    "roc_auc = auc(fpr,tpr) \n",
    "print (\"CV ROC AUC:\",roc_auc)\n",
    "\n",
    "# Plot ROC\n",
    "plt.figure()\n",
    "lw = 2\n",
    "plt.plot(fpr, tpr, color='darkorange',\n",
    "         lw=lw, label='ROC curve (area = %0.2f)' % roc_auc)\n",
    "plt.plot([0, 1], [0, 1], color='navy', lw=lw, linestyle='--')\n",
    "plt.xlim([0.0, 1.0])\n",
    "plt.ylim([0.0, 1.05])\n",
    "plt.xlabel('False Positive Rate')\n",
    "plt.ylabel('True Positive Rate')\n",
    "plt.title('Receiver operating characteristic')\n",
    "plt.legend(loc=\"lower right\")\n",
    "plt.show()"
   ]
  },
  {
   "cell_type": "code",
   "execution_count": null,
   "metadata": {
    "collapsed": true
   },
   "outputs": [],
   "source": []
  }
 ],
 "metadata": {
  "kernelspec": {
   "display_name": "Python 3",
   "language": "python",
   "name": "python3"
  },
  "language_info": {
   "codemirror_mode": {
    "name": "ipython",
    "version": 3
   },
   "file_extension": ".py",
   "mimetype": "text/x-python",
   "name": "python",
   "nbconvert_exporter": "python",
   "pygments_lexer": "ipython3",
   "version": "3.5.2"
  },
  "widgets": {
   "state": {},
   "version": "1.1.2"
  }
 },
 "nbformat": 4,
 "nbformat_minor": 2
}
