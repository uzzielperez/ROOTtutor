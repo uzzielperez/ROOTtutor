{
 "cells": [
  {
   "cell_type": "code",
   "execution_count": 16,
   "metadata": {},
   "outputs": [],
   "source": [
    "import ROOT\n",
    "import numpy as np"
   ]
  },
  {
   "cell_type": "markdown",
   "metadata": {},
   "source": [
    "### Writing a Tree"
   ]
  },
  {
   "cell_type": "code",
   "execution_count": 20,
   "metadata": {},
   "outputs": [],
   "source": [
    "print \"Writing a tree\"\n",
    "\n",
    "f = ROOT.TFile(\"pytree.root\", \"recreate\")\n",
    "t = ROOT.TTree(\"tree\", \"photontree\")\n",
    "\n",
    "\n",
    "# create 1 dimensional float arrays (python's float datatype corresponds to c++ doubles)\n",
    "# as fill variables\n",
    "n = np.zeros(1, dtype=float)\n",
    "u = np.zeros(1, dtype=float)\n",
    "\n",
    "#n=[]*100.00\n",
    "#u=[]*100.\n",
    "#for i in xrange(0,20):\n",
    " #   n.append(0)\n",
    "  #  u.append(0)\n",
    "\n",
    "# create the branches and assign the fill-variables to them\n",
    "t.Branch('normal', n, 'normal/D')\n",
    "t.Branch('uniform', u, 'uniform/D')\n",
    "\n",
    "# create some random numbers, fill them into the fill varibles and call Fill()\n",
    "for i in xrange(100000):\n",
    "\tn[0] = ROOT.gRandom.Gaus()\n",
    "\tu[0] = ROOT.gRandom.Uniform()\n",
    "\tt.Fill()\n",
    "\n",
    "# write the tree into the output file and close the file\n",
    "f.Write()\n",
    "f.Close()"
   ]
  },
  {
   "cell_type": "code",
   "execution_count": null,
   "metadata": {},
   "outputs": [],
   "source": [
    "\n"
   ]
  },
  {
   "cell_type": "code",
   "execution_count": null,
   "metadata": {
    "collapsed": true
   },
   "outputs": [],
   "source": []
  }
 ],
 "metadata": {
  "kernelspec": {
   "display_name": "Python 2",
   "language": "python",
   "name": "python2"
  },
  "language_info": {
   "codemirror_mode": {
    "name": "ipython",
    "version": 2
   },
   "file_extension": ".py",
   "mimetype": "text/x-python",
   "name": "python",
   "nbconvert_exporter": "python",
   "pygments_lexer": "ipython2",
   "version": "2.7.13"
  }
 },
 "nbformat": 4,
 "nbformat_minor": 2
}
